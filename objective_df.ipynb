{
 "cells": [
  {
   "cell_type": "code",
   "execution_count": 6,
   "metadata": {},
   "outputs": [],
   "source": [
    "import textract\n",
    "import re\n"
   ]
  },
  {
   "cell_type": "markdown",
   "metadata": {},
   "source": [
    "Ideas:\n",
    "- could find repeating sentences and keep them in a list to check for objectives\n",
    "- could just extract links for each objective\n",
    "- can we take an objective, and find any relevant info from calgary black book? (or some other supplementary resource)\n"
   ]
  },
  {
   "cell_type": "code",
   "execution_count": 4,
   "metadata": {},
   "outputs": [],
   "source": [
    "text = textract.process(\"medd_412_week_19.pdf\").decode('utf-8')"
   ]
  },
  {
   "cell_type": "code",
   "execution_count": 10,
   "metadata": {},
   "outputs": [],
   "source": [
    "# get rid of everything above the actual objectives\n",
    "objective_text = re.split(r\"\\nWeek Objectives\\n\", text)[1]"
   ]
  },
  {
   "cell_type": "code",
   "execution_count": null,
   "metadata": {},
   "outputs": [],
   "source": []
  },
  {
   "cell_type": "code",
   "execution_count": 13,
   "metadata": {},
   "outputs": [],
   "source": [
    "# split objectives up (1 objective per list slot)\n",
    "objective_list = re.split(\"[0-9*]: \", objective_text)"
   ]
  },
  {
   "cell_type": "code",
   "execution_count": 14,
   "metadata": {},
   "outputs": [
    {
     "data": {
      "text/plain": [
       "17"
      ]
     },
     "execution_count": 14,
     "metadata": {},
     "output_type": "execute_result"
    }
   ],
   "source": [
    "len(objective_list)"
   ]
  },
  {
   "cell_type": "code",
   "execution_count": 16,
   "metadata": {},
   "outputs": [
    {
     "data": {
      "text/plain": [
       "\"Discuss the patient's biopsychosocial context of wellness and, in light of this\\ncontext, identify barriers to the access of health care and strategies to promote and\\nprevent disease\\nOﬃce Visits (1-10) - 1 (https://entrada.med.ubc.ca/events/?rid=27433)\\nClinical Experience - Ambulatory\\n\\nRecognize health promotion and disease prevention strategies\\nRecognize the bio-psycho-social context of the patient and barriers in accessing health\\ncare\\nOﬃce Visits (1-10) - 2 (https://entrada.med.ubc.ca/events/?rid=27434)\\nClinical Experience - Ambulatory\\n\\nRecognize health promotion and disease prevention strategies\\nRecognize the bio-psycho-social context of the patient and barriers in accessing health\\ncare\\nOﬃce Visits (1-10) - 3 (https://entrada.med.ubc.ca/events/?rid=27435)\\nClinical Experience - Ambulatory\\n\\nRecognize health promotion and disease prevention strategies\\nhttps://entrada.med.ubc.ca/courses/units/summary?id=3&cunit_id=937\\n\\nPage 1 of 25\\n\\n\\x0cEntrada: An eLearning Ecosystem\\n\\n2021-01-25, 6:54 PM\\n\\nRecognize the bio-psycho-social context of the patient and barriers in accessing health\\ncare\\nOﬃce Visits (1-10) - 4 (https://entrada.med.ubc.ca/events/?rid=27436)\\nClinical Experience - Ambulatory\\n\\nRecognize health promotion and disease prevention strategies\\nRecognize the bio-psycho-social context of the patient and barriers in accessing health\\ncare\\nOﬃce Visits (1-10) - 5 (https://entrada.med.ubc.ca/events/?rid=27437)\\nClinical Experience - Ambulatory\\n\\nRecognize health promotion and disease prevention strategies\\nRecognize the bio-psycho-social context of the patient and barriers in accessing health\\ncare\\nOﬃce Visits (1-10) - 6 (https://entrada.med.ubc.ca/events/?rid=27438)\\nClinical Experience - Ambulatory\\n\\nRecognize health promotion and disease prevention strategies\\nRecognize the bio-psycho-social context of the patient and barriers in accessing health\\ncare\\nOﬃce Visits (1-10) - 7 (https://entrada.med.ubc.ca/events/?rid=27439)\\nClinical Experience - Ambulatory\\n\\nRecognize health promotion and disease prevention strategies\\nRecognize the bio-psycho-social context of the patient and barriers in accessing health\\ncare\\nOﬃce Visits (1-10) - 8 (https://entrada.med.ubc.ca/events/?rid=27440)\\nClinical Experience - Ambulatory\\n\\nRecognize health promotion and disease prevention strategies\\nRecognize the bio-psycho-social context of the patient and barriers in accessing health\\ncare\\nOﬃce Visits (1-10) - 9 (https://entrada.med.ubc.ca/events/?rid=27441)\\nClinical Experience - Ambulatory\\n\\nRecognize health promotion and disease prevention strategies\\nRecognize the bio-psycho-social context of the patient and barriers in accessing health\\ncare\\nhttps://entrada.med.ubc.ca/courses/units/summary?id=3&cunit_id=937\\n\\nPage 2 of 25\\n\\n\\x0cEntrada: An eLearning Ecosystem\\n\\n2021-01-25, 6:54 PM\\n\\nOﬃce Visits (1-10) - 10 (https://entrada.med.ubc.ca/events/?rid=27442)\\nClinical Experience - Ambulatory\\n\\nRecognize health promotion and disease prevention strategies\\nRecognize the bio-psycho-social context of the patient and barriers in accessing health\\ncare\\n*SYNC/Real-Time Session* Chronic Pain Interprofessional Discussion (Zoom\\nConnection - See Required Prep) (https://entrada.med.ubc.ca/events/?rid=27453)\\nConference;Lecture\\n\\nDescribe the importance of relationship-based patient centred care\\nDefine strategies to improve understanding of the patient's experience of illness and how\\nto balance this with the medical knowledge of disease\\nList diﬀerent communication strategies that enhance cross cultural communication\\nDiscuss the importance of relationship building within the community to support patient\\ncare, improve care access and mitigate resource gaps\\nFoS Meets Neurology - I've Got Scholarship on my Mind [Online Module]\\n(https://entrada.med.ubc.ca/events/?rid=27456)\\nIndependent Learning;Self-Directed Learning\\n\\nExamine the importance of patient and stakeholder involvement in medical research\\n(reviews MEDD 419 concepts: patient and stakeholder engagement, and spirals to MEDD\\n419 Weeks 22 (Principles of Project and Research Design), Week 23 (Research Ethics and\\nResponsible Conduct in Research) and Week 26 (Knowledge Translation).\\n\\n\""
      ]
     },
     "execution_count": 16,
     "metadata": {},
     "output_type": "execute_result"
    }
   ],
   "source": [
    "# now most important thing is to isolate the objective\n",
    "# and any relevant links (and potentially names for links)\n",
    "objective_list[1]"
   ]
  },
  {
   "cell_type": "code",
   "execution_count": null,
   "metadata": {},
   "outputs": [],
   "source": []
  }
 ],
 "metadata": {
  "kernelspec": {
   "display_name": "Python 3",
   "language": "python",
   "name": "python3"
  },
  "language_info": {
   "codemirror_mode": {
    "name": "ipython",
    "version": 3
   },
   "file_extension": ".py",
   "mimetype": "text/x-python",
   "name": "python",
   "nbconvert_exporter": "python",
   "pygments_lexer": "ipython3",
   "version": "3.7.7"
  }
 },
 "nbformat": 4,
 "nbformat_minor": 4
}
