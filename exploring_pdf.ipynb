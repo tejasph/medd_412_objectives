{
 "cells": [
  {
   "cell_type": "code",
   "execution_count": 38,
   "metadata": {},
   "outputs": [],
   "source": [
    "import textract\n",
    "import pdfplumber\n",
    "import re"
   ]
  },
  {
   "cell_type": "code",
   "execution_count": 12,
   "metadata": {},
   "outputs": [],
   "source": [
    "text = textract.process('medd_412_week_19.pdf').decode(\"utf-8\")"
   ]
  },
  {
   "cell_type": "code",
   "execution_count": 25,
   "metadata": {},
   "outputs": [],
   "source": [
    "objectives_split = re.split(\"[0-9*]: \", text)"
   ]
  },
  {
   "cell_type": "code",
   "execution_count": 26,
   "metadata": {},
   "outputs": [
    {
     "data": {
      "text/plain": [
       "str"
      ]
     },
     "execution_count": 26,
     "metadata": {},
     "output_type": "execute_result"
    }
   ],
   "source": [
    "type(text)"
   ]
  },
  {
   "cell_type": "code",
   "execution_count": 27,
   "metadata": {},
   "outputs": [
    {
     "data": {
      "text/plain": [
       "'Entrada: An eLearning Ecosystem\\n\\n2021-01-25, 6:54 PM\\n\\n/ Courses\\n\\n2020/2021 - MEDD 412 - Week 19:\\nPeripheral Neuropathy\\n\\nWeek 1'"
      ]
     },
     "execution_count": 27,
     "metadata": {},
     "output_type": "execute_result"
    }
   ],
   "source": [
    "objectives_split[0]"
   ]
  },
  {
   "cell_type": "code",
   "execution_count": 28,
   "metadata": {},
   "outputs": [
    {
     "data": {
      "text/plain": [
       "'Peripheral Neuropathy Objectives Summary\\n\\nWeek Objectives\\n'"
      ]
     },
     "execution_count": 28,
     "metadata": {},
     "output_type": "execute_result"
    }
   ],
   "source": [
    "objectives_split[1]"
   ]
  },
  {
   "cell_type": "code",
   "execution_count": 36,
   "metadata": {},
   "outputs": [],
   "source": [
    "obj_1 = objectives_split[2]"
   ]
  },
  {
   "cell_type": "code",
   "execution_count": 34,
   "metadata": {},
   "outputs": [
    {
     "data": {
      "text/plain": [
       "'Recognize health promotion and disease prevention strategies\\nRecognize the bio-psycho-social context of the patient and barriers in accessing health\\ncare\\nOﬃce Visits (1-10) - 2 (https://entrada.med.ubc.ca/events/?rid=27434)\\nClinical Experience - Ambulatory'"
      ]
     },
     "execution_count": 34,
     "metadata": {},
     "output_type": "execute_result"
    }
   ],
   "source": [
    "re.split(r\"\\n\\n\", objectives_split[2])[1]"
   ]
  },
  {
   "cell_type": "code",
   "execution_count": 35,
   "metadata": {},
   "outputs": [],
   "source": [
    "# need to separate objective names from their subheaders"
   ]
  },
  {
   "cell_type": "code",
   "execution_count": 37,
   "metadata": {},
   "outputs": [
    {
     "data": {
      "text/plain": [
       "\"Discuss the patient's biopsychosocial context of wellness and, in light of this\\ncontext, identify barriers to the access of health care and strategies to promote and\\nprevent disease\\nOﬃce Visits (1-10) - 1 (https://entrada.med.ubc.ca/events/?rid=27433)\\nClinical Experience - Ambulatory\\n\\nRecognize health promotion and disease prevention strategies\\nRecognize the bio-psycho-social context of the patient and barriers in accessing health\\ncare\\nOﬃce Visits (1-10) - 2 (https://entrada.med.ubc.ca/events/?rid=27434)\\nClinical Experience - Ambulatory\\n\\nRecognize health promotion and disease prevention strategies\\nRecognize the bio-psycho-social context of the patient and barriers in accessing health\\ncare\\nOﬃce Visits (1-10) - 3 (https://entrada.med.ubc.ca/events/?rid=27435)\\nClinical Experience - Ambulatory\\n\\nRecognize health promotion and disease prevention strategies\\nhttps://entrada.med.ubc.ca/courses/units/summary?id=3&cunit_id=937\\n\\nPage 1 of 25\\n\\n\\x0cEntrada: An eLearning Ecosystem\\n\\n2021-01-25, 6:54 PM\\n\\nRecognize the bio-psycho-social context of the patient and barriers in accessing health\\ncare\\nOﬃce Visits (1-10) - 4 (https://entrada.med.ubc.ca/events/?rid=27436)\\nClinical Experience - Ambulatory\\n\\nRecognize health promotion and disease prevention strategies\\nRecognize the bio-psycho-social context of the patient and barriers in accessing health\\ncare\\nOﬃce Visits (1-10) - 5 (https://entrada.med.ubc.ca/events/?rid=27437)\\nClinical Experience - Ambulatory\\n\\nRecognize health promotion and disease prevention strategies\\nRecognize the bio-psycho-social context of the patient and barriers in accessing health\\ncare\\nOﬃce Visits (1-10) - 6 (https://entrada.med.ubc.ca/events/?rid=27438)\\nClinical Experience - Ambulatory\\n\\nRecognize health promotion and disease prevention strategies\\nRecognize the bio-psycho-social context of the patient and barriers in accessing health\\ncare\\nOﬃce Visits (1-10) - 7 (https://entrada.med.ubc.ca/events/?rid=27439)\\nClinical Experience - Ambulatory\\n\\nRecognize health promotion and disease prevention strategies\\nRecognize the bio-psycho-social context of the patient and barriers in accessing health\\ncare\\nOﬃce Visits (1-10) - 8 (https://entrada.med.ubc.ca/events/?rid=27440)\\nClinical Experience - Ambulatory\\n\\nRecognize health promotion and disease prevention strategies\\nRecognize the bio-psycho-social context of the patient and barriers in accessing health\\ncare\\nOﬃce Visits (1-10) - 9 (https://entrada.med.ubc.ca/events/?rid=27441)\\nClinical Experience - Ambulatory\\n\\nRecognize health promotion and disease prevention strategies\\nRecognize the bio-psycho-social context of the patient and barriers in accessing health\\ncare\\nhttps://entrada.med.ubc.ca/courses/units/summary?id=3&cunit_id=937\\n\\nPage 2 of 25\\n\\n\\x0cEntrada: An eLearning Ecosystem\\n\\n2021-01-25, 6:54 PM\\n\\nOﬃce Visits (1-10) - 10 (https://entrada.med.ubc.ca/events/?rid=27442)\\nClinical Experience - Ambulatory\\n\\nRecognize health promotion and disease prevention strategies\\nRecognize the bio-psycho-social context of the patient and barriers in accessing health\\ncare\\n*SYNC/Real-Time Session* Chronic Pain Interprofessional Discussion (Zoom\\nConnection - See Required Prep) (https://entrada.med.ubc.ca/events/?rid=27453)\\nConference;Lecture\\n\\nDescribe the importance of relationship-based patient centred care\\nDefine strategies to improve understanding of the patient's experience of illness and how\\nto balance this with the medical knowledge of disease\\nList diﬀerent communication strategies that enhance cross cultural communication\\nDiscuss the importance of relationship building within the community to support patient\\ncare, improve care access and mitigate resource gaps\\nFoS Meets Neurology - I've Got Scholarship on my Mind [Online Module]\\n(https://entrada.med.ubc.ca/events/?rid=27456)\\nIndependent Learning;Self-Directed Learning\\n\\nExamine the importance of patient and stakeholder involvement in medical research\\n(reviews MEDD 419 concepts: patient and stakeholder engagement, and spirals to MEDD\\n419 Weeks 22 (Principles of Project and Research Design), Week 23 (Research Ethics and\\nResponsible Conduct in Research) and Week 26 (Knowledge Translation).\\n\\n\""
      ]
     },
     "execution_count": 37,
     "metadata": {},
     "output_type": "execute_result"
    }
   ],
   "source": [
    "obj_1"
   ]
  },
  {
   "cell_type": "code",
   "execution_count": 39,
   "metadata": {},
   "outputs": [
    {
     "name": "stdout",
     "output_type": "stream",
     "text": [
      "{'fontname': 'AAAAAB+.SFNS-Regular_wdth_opsz110000_GRAD_wght', 'adv': Decimal('0.604'), 'upright': True, 'x0': Decimal('518.911'), 'y0': Decimal('766.523'), 'x1': Decimal('523.139'), 'y1': Decimal('773.523'), 'width': Decimal('4.228'), 'height': Decimal('7.000'), 'size': Decimal('7.000'), 'object_type': 'char', 'page_number': 1, 'stroking_color': None, 'non_stroking_color': [0, 0, 0], 'text': '2', 'top': Decimal('18.477'), 'bottom': Decimal('25.477'), 'doctop': Decimal('18.477')}\n"
     ]
    }
   ],
   "source": [
    "with pdfplumber.open(\"medd_412_week_19.pdf\") as pdf:\n",
    "    first_page = pdf.pages[0]\n",
    "    print(first_page.chars[0])"
   ]
  },
  {
   "cell_type": "code",
   "execution_count": 72,
   "metadata": {},
   "outputs": [
    {
     "data": {
      "text/plain": [
       "Decimal('792')"
      ]
     },
     "execution_count": 72,
     "metadata": {},
     "output_type": "execute_result"
    }
   ],
   "source": []
  },
  {
   "cell_type": "code",
   "execution_count": 71,
   "metadata": {},
   "outputs": [],
   "source": [
    "#re.split(r\"\\n\", first_page.extract_text(y_tolerance = 3))"
   ]
  },
  {
   "cell_type": "code",
   "execution_count": 73,
   "metadata": {},
   "outputs": [],
   "source": [
    "#first_page.extract_words()"
   ]
  },
  {
   "cell_type": "code",
   "execution_count": 74,
   "metadata": {},
   "outputs": [
    {
     "data": {
      "text/plain": [
       "Decimal('792')"
      ]
     },
     "execution_count": 74,
     "metadata": {},
     "output_type": "execute_result"
    }
   ],
   "source": [
    "first_page.height"
   ]
  },
  {
   "cell_type": "code",
   "execution_count": 75,
   "metadata": {},
   "outputs": [
    {
     "data": {
      "text/plain": [
       "Decimal('612')"
      ]
     },
     "execution_count": 75,
     "metadata": {},
     "output_type": "execute_result"
    }
   ],
   "source": [
    "first_page.width"
   ]
  },
  {
   "cell_type": "code",
   "execution_count": 80,
   "metadata": {},
   "outputs": [],
   "source": [
    "# cropping off top of first page as a trial (seems to work well)\n",
    "cropped_first_page = first_page.crop((0, 100, first_page.width, first_page.height))"
   ]
  },
  {
   "cell_type": "code",
   "execution_count": 82,
   "metadata": {},
   "outputs": [],
   "source": [
    "cropped_txt = cropped_first_page.extract_text()"
   ]
  },
  {
   "cell_type": "code",
   "execution_count": 84,
   "metadata": {},
   "outputs": [
    {
     "data": {
      "text/plain": [
       "['2020/2021 - MEDD 412 - Week 19:\\nPeripheral Neuropathy\\nWeek 19: Peripheral Neuropathy Objectives Summary',\n",
       " \"1: Discuss the patient's biopsychosocial context of wellness and, in light of this\\ncontext, identify barriers to the access of health care and strategies to promote and\\nprevent disease\\nOﬃce Visits (1-10) - 1 (https://entrada.med.ubc.ca/events/?rid=27433)\\nClinical Experience - Ambulatory\\nRecognize health promotion and disease prevention strategies\\nRecognize the bio-psycho-social context of the patient and barriers in accessing health\\ncare\\nOﬃce Visits (1-10) - 2 (https://entrada.med.ubc.ca/events/?rid=27434)\\nClinical Experience - Ambulatory\\nRecognize health promotion and disease prevention strategies\\nRecognize the bio-psycho-social context of the patient and barriers in accessing health\\ncare\\nOﬃce Visits (1-10) - 3 (https://entrada.med.ubc.ca/events/?rid=27435)\\nClinical Experience - Ambulatory\\nRecognize health promotion and disease prevention strategies\\nhttps://entrada.med.ubc.ca/courses/units/summary?id=3&cunit_id=937 Page 1 of 25\"]"
      ]
     },
     "execution_count": 84,
     "metadata": {},
     "output_type": "execute_result"
    }
   ],
   "source": [
    "re.split(r\"\\nWeek Objectives\\n\", cropped_txt)"
   ]
  },
  {
   "cell_type": "code",
   "execution_count": 86,
   "metadata": {},
   "outputs": [
    {
     "data": {
      "text/plain": [
       "[]"
      ]
     },
     "execution_count": 86,
     "metadata": {},
     "output_type": "execute_result"
    }
   ],
   "source": [
    "cropped_first_page.lines"
   ]
  },
  {
   "cell_type": "code",
   "execution_count": null,
   "metadata": {},
   "outputs": [],
   "source": []
  }
 ],
 "metadata": {
  "kernelspec": {
   "display_name": "Python 3",
   "language": "python",
   "name": "python3"
  },
  "language_info": {
   "codemirror_mode": {
    "name": "ipython",
    "version": 3
   },
   "file_extension": ".py",
   "mimetype": "text/x-python",
   "name": "python",
   "nbconvert_exporter": "python",
   "pygments_lexer": "ipython3",
   "version": "3.7.7"
  }
 },
 "nbformat": 4,
 "nbformat_minor": 4
}
